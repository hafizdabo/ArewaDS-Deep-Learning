{
  "nbformat": 4,
  "nbformat_minor": 0,
  "metadata": {
    "colab": {
      "provenance": [],
      "include_colab_link": true
    },
    "kernelspec": {
      "name": "python3",
      "display_name": "Python 3"
    },
    "language_info": {
      "name": "python"
    },
    "accelerator": "GPU"
  },
  "cells": [
    {
      "cell_type": "markdown",
      "metadata": {
        "id": "view-in-github",
        "colab_type": "text"
      },
      "source": [
        "<a href=\"https://colab.research.google.com/github/hafizdabo/ArewaDS-Deep-Learning/blob/main/Part_1_Deep_Learning_with_Pytorch/week1/week1solution.ipynb\" target=\"_parent\"><img src=\"https://colab.research.google.com/assets/colab-badge.svg\" alt=\"Open In Colab\"/></a>"
      ]
    },
    {
      "cell_type": "markdown",
      "source": [
        "# Arewa Data Science Academy\n",
        "## Deep Learning Cohort2.0\n",
        "### Name: Abdulhafiz Umar Dabo\n",
        "### Email: hafizdabo@gmail.com\n",
        "### Title: Week 1 Solution\n",
        "### Exercises Solution"
      ],
      "metadata": {
        "id": "RJc2JTnsIKhG"
      }
    },
    {
      "cell_type": "markdown",
      "source": [
        "### Creating a random tensor with shape `(7, 7)`.\n"
      ],
      "metadata": {
        "id": "__iXqqz-ioUJ"
      }
    },
    {
      "cell_type": "code",
      "source": [
        "# Import torch\n",
        "import torch\n",
        "\n",
        "# Create random tensor with shape (7, 7)\n",
        "random_tensor = torch.rand(7, 7)\n",
        "\n",
        "# Printing the tensor\n",
        "print(random_tensor)"
      ],
      "metadata": {
        "id": "6pUq9Dc8i2L7",
        "colab": {
          "base_uri": "https://localhost:8080/"
        },
        "outputId": "83f740e4-6f67-4fb4-8ac9-13638bc3fb54"
      },
      "execution_count": null,
      "outputs": [
        {
          "output_type": "stream",
          "name": "stdout",
          "text": [
            "tensor([[5.5691e-02, 3.5993e-02, 6.6222e-01, 5.2236e-01, 2.4272e-01, 3.6640e-01,\n",
            "         2.7173e-01],\n",
            "        [6.9580e-02, 5.5019e-02, 8.7779e-02, 1.7246e-01, 9.7185e-01, 2.8156e-01,\n",
            "         3.8297e-01],\n",
            "        [5.3671e-02, 7.5956e-01, 5.6361e-01, 6.6922e-01, 3.2051e-01, 7.1685e-01,\n",
            "         3.8781e-01],\n",
            "        [3.8975e-01, 9.6073e-01, 1.9201e-01, 2.6687e-01, 6.9570e-01, 9.5716e-01,\n",
            "         8.9069e-01],\n",
            "        [2.8044e-01, 9.5867e-01, 8.1983e-01, 3.7544e-02, 3.6970e-01, 7.9320e-02,\n",
            "         3.9507e-01],\n",
            "        [7.8330e-01, 5.3403e-01, 1.0347e-04, 9.4199e-01, 8.6532e-01, 5.1932e-02,\n",
            "         3.8435e-01],\n",
            "        [2.3432e-01, 9.8415e-01, 6.3488e-01, 5.5409e-01, 3.8890e-01, 9.2357e-01,\n",
            "         6.9032e-01]])\n"
          ]
        }
      ]
    },
    {
      "cell_type": "markdown",
      "source": [
        "### 3. Performing a matrix multiplication on the tensor from 2 with another random tensor with shape `(1, 7)`"
      ],
      "metadata": {
        "id": "9-XxvRLfiqkR"
      }
    },
    {
      "cell_type": "code",
      "source": [
        "# Create another random tensor\n",
        "random_tensor2 = torch.rand(1, 7)\n",
        "\n",
        "# Performing matrix multiplication\n",
        "result = torch.matmul(random_tensor, random_tensor2.T)\n",
        "\n",
        "# Printing the result\n",
        "print(result)\n"
      ],
      "metadata": {
        "id": "NcLqR0Sbi_vT",
        "colab": {
          "base_uri": "https://localhost:8080/"
        },
        "outputId": "fa29781f-7d72-4fe8-8337-f713be80dcbd"
      },
      "execution_count": null,
      "outputs": [
        {
          "output_type": "stream",
          "name": "stdout",
          "text": [
            "tensor([[1.4295],\n",
            "        [0.9624],\n",
            "        [2.1375],\n",
            "        [2.3611],\n",
            "        [1.6209],\n",
            "        [1.7746],\n",
            "        [2.6311]])\n"
          ]
        }
      ]
    },
    {
      "cell_type": "markdown",
      "source": [
        "### 4. Setting the random seed to `0` and do 2 & 3 over again."
      ],
      "metadata": {
        "id": "eiutdKUFiryU"
      }
    },
    {
      "cell_type": "code",
      "source": [
        "# Set manual seed\n",
        "torch.manual_seed(0)\n",
        "\n",
        "# Create two random tensors with shapes (7, 7) and (1, 7)\n",
        "rand_tensor = torch.rand(7, 7)\n",
        "rand_tensor2 = torch.rand(1, 7)\n",
        "\n",
        "# Matrix multiply tensors\n",
        "result2 = torch.matmul(rand_tensor, rand_tensor2.T)\n",
        "\n",
        "# Printing the result\n",
        "print(result2)"
      ],
      "metadata": {
        "id": "D-lOWI_1jRMm",
        "colab": {
          "base_uri": "https://localhost:8080/"
        },
        "outputId": "d8afd21c-ac6e-45b8-dee7-0fc847941118"
      },
      "execution_count": null,
      "outputs": [
        {
          "output_type": "stream",
          "name": "stdout",
          "text": [
            "tensor([[1.8542],\n",
            "        [1.9611],\n",
            "        [2.2884],\n",
            "        [3.0481],\n",
            "        [1.7067],\n",
            "        [2.5290],\n",
            "        [1.7989]])\n"
          ]
        }
      ]
    },
    {
      "cell_type": "markdown",
      "source": [
        "### 5. Speaking of random seeds, we saw how to set it with `torch.manual_seed()` but is there a GPU equivalent? (hint: you'll need to look into the documentation for `torch.cuda` for this one)\n",
        "  * If there is, set the GPU random seed to `1234`."
      ],
      "metadata": {
        "id": "ezY6ks9Cis37"
      }
    },
    {
      "cell_type": "code",
      "source": [
        "# Set random seed on the GPU\n",
        "torch.cuda.manual_seed(1234)"
      ],
      "metadata": {
        "id": "_LKWcfSTjp00"
      },
      "execution_count": null,
      "outputs": []
    },
    {
      "cell_type": "markdown",
      "source": [
        "\n",
        "### 6. Create two random tensors of shape `(2, 3)` and send them both to the GPU (you'll need access to a GPU for this). Set `torch.manual_seed(1234)` when creating the tensors (this doesn't have to be the GPU random seed). The output should be something like:\n",
        "\n",
        "```\n",
        "Device: cuda\n",
        "(tensor([[0.0290, 0.4019, 0.2598],\n",
        "         [0.3666, 0.0583, 0.7006]], device='cuda:0'),\n",
        " tensor([[0.0518, 0.4681, 0.6738],\n",
        "         [0.3315, 0.7837, 0.5631]], device='cuda:0'))\n",
        "```"
      ],
      "metadata": {
        "id": "Ir9qSaj6it4n"
      }
    },
    {
      "cell_type": "code",
      "source": [
        "# Set random seed\n",
        "torch.manual_seed(1234)\n",
        "\n",
        "# Check for access to GPU\n",
        "if torch.cuda.is_available():\n",
        "    # Send the tensors to the GPU\n",
        "    device = torch.device(\"cuda\")  # If GPU is available, use it\n",
        "else:\n",
        "    # Fallback to CPU if no GPU is available\n",
        "    device = torch.device(\"cpu\")\n",
        "\n",
        "# Create two random tensors on GPU\n",
        "tensor1 = torch.rand(2, 3, device=device)\n",
        "tensor2 = torch.rand(2, 3, device=device)\n",
        "\n",
        "# Print the tensors and their device location\n",
        "print(\"Tensor 1:\", tensor1)\n",
        "print(\"Tensor 2:\", tensor2)\n",
        "print(\"Device:\", device)"
      ],
      "metadata": {
        "id": "azXExiFZj5nm",
        "colab": {
          "base_uri": "https://localhost:8080/"
        },
        "outputId": "767ba0ac-66db-4dd2-8a84-4a062577ca45"
      },
      "execution_count": null,
      "outputs": [
        {
          "output_type": "stream",
          "name": "stdout",
          "text": [
            "Tensor 1: tensor([[0.1272, 0.8167, 0.5440],\n",
            "        [0.6601, 0.2721, 0.9737]], device='cuda:0')\n",
            "Tensor 2: tensor([[0.6208, 0.0276, 0.3255],\n",
            "        [0.1114, 0.6812, 0.3608]], device='cuda:0')\n",
            "Device: cuda\n"
          ]
        }
      ]
    },
    {
      "cell_type": "markdown",
      "source": [
        "\n",
        "### 7. Perform a matrix multiplication on the tensors you created in 6 (again, you may have to adjust the shapes of one of the tensors).\n",
        "\n",
        "The output should look like:\n",
        "```\n",
        "(tensor([[0.3647, 0.4709],\n",
        "         [0.5184, 0.5617]], device='cuda:0'), torch.Size([2, 2]))\n",
        "```"
      ],
      "metadata": {
        "id": "5TlAxeiSiu1y"
      }
    },
    {
      "cell_type": "code",
      "source": [
        "# Perform matmul on tensor1 and tensor2, and transpose tensor2 to shape (3, 2).\n",
        "result3 = torch.matmul(tensor1, tensor2.T)\n",
        "\n",
        "# Print the result and its shape\n",
        "print(\"Matrix multiplication result:\\n\", result3)\n",
        "print(\"Result shape:\", result3.shape)"
      ],
      "metadata": {
        "id": "fAeG7ox0lHEO",
        "colab": {
          "base_uri": "https://localhost:8080/"
        },
        "outputId": "5124c168-542a-4de3-ad4a-935a3e4a60e5"
      },
      "execution_count": null,
      "outputs": [
        {
          "output_type": "stream",
          "name": "stdout",
          "text": [
            "Matrix multiplication result:\n",
            " tensor([[0.2786, 0.7668],\n",
            "        [0.7343, 0.6102]], device='cuda:0')\n",
            "Result shape: torch.Size([2, 2])\n"
          ]
        }
      ]
    },
    {
      "cell_type": "markdown",
      "source": [
        "### 8. Find the maximum and minimum values of the output of 7."
      ],
      "metadata": {
        "id": "G7qfa5CSivwg"
      }
    },
    {
      "cell_type": "code",
      "source": [
        "# Find max\n",
        "max_value = torch.max(result3)\n",
        "\n",
        "# Find min\n",
        "min_value = torch.min(result3)\n",
        "\n",
        "# Print the maximum and minimum values\n",
        "print(\"Maximum value in the result:\", max_value)\n",
        "print(\"Minimum value in the result:\", min_value)"
      ],
      "metadata": {
        "id": "Fu8_3mZpllOd",
        "colab": {
          "base_uri": "https://localhost:8080/"
        },
        "outputId": "99ad6bbd-6631-494f-a961-87f21b835859"
      },
      "execution_count": null,
      "outputs": [
        {
          "output_type": "stream",
          "name": "stdout",
          "text": [
            "Maximum value in the result: tensor(0.7668, device='cuda:0')\n",
            "Minimum value in the result: tensor(0.2786, device='cuda:0')\n"
          ]
        }
      ]
    },
    {
      "cell_type": "markdown",
      "source": [
        "### 9. Find the maximum and minimum index values of the output of 7."
      ],
      "metadata": {
        "id": "wrTj5FgNiw47"
      }
    },
    {
      "cell_type": "code",
      "source": [
        "# Find arg max\n",
        "arg_max = torch.argmax(result3)\n",
        "\n",
        "# Find arg min\n",
        "arg_min = torch.argmin(result3)\n",
        "\n",
        "# Print the indices of the maximum and minimum values\n",
        "print(\"Index of the maximum value in the result:\", arg_max)\n",
        "print(\"Index of the minimum value in the result:\", arg_min)"
      ],
      "metadata": {
        "id": "CCEKt4K2lsfQ",
        "colab": {
          "base_uri": "https://localhost:8080/"
        },
        "outputId": "d237c5b7-2fb4-4b06-be13-ac4c21a1e393"
      },
      "execution_count": null,
      "outputs": [
        {
          "output_type": "stream",
          "name": "stdout",
          "text": [
            "Index of the maximum value in the result: tensor(1, device='cuda:0')\n",
            "Index of the minimum value in the result: tensor(0, device='cuda:0')\n"
          ]
        }
      ]
    },
    {
      "cell_type": "markdown",
      "source": [
        "\n",
        "### 10. Make a random tensor with shape `(1, 1, 1, 10)` and then create a new tensor with all the `1` dimensions removed to be left with a tensor of shape `(10)`. Set the seed to `7` when you create it and print out the first tensor and it's shape as well as the second tensor and it's shape.\n",
        "\n",
        "The output should look like:\n",
        "\n",
        "```\n",
        "tensor([[[[0.5349, 0.1988, 0.6592, 0.6569, 0.2328, 0.4251, 0.2071, 0.6297,\n",
        "           0.3653, 0.8513]]]]) torch.Size([1, 1, 1, 10])\n",
        "tensor([0.5349, 0.1988, 0.6592, 0.6569, 0.2328, 0.4251, 0.2071, 0.6297, 0.3653,\n",
        "        0.8513]) torch.Size([10])\n",
        "```"
      ],
      "metadata": {
        "id": "hmeybz4uixy7"
      }
    },
    {
      "cell_type": "code",
      "source": [
        "# Set seed\n",
        "torch.manual_seed(7)\n",
        "\n",
        "# Create random tensor\n",
        "random_tensorr = torch.rand(1, 1, 1, 10)\n",
        "\n",
        "# Remove single dimensions\n",
        "new_tensor = random_tensorr.squeeze()\n",
        "\n",
        "# Print out the original tensor and its shape\n",
        "print(\"Original tensor:\")\n",
        "print(random_tensorr)\n",
        "print(\"Original tensor shape:\", random_tensorr.shape)\n",
        "\n",
        "# Print out the new tensor and its shape\n",
        "print(\"\\nNew tensor:\")\n",
        "print(new_tensor)\n",
        "print(\"New tensor shape:\", new_tensor.shape)\n"
      ],
      "metadata": {
        "id": "TQ9zbRzVl1jV",
        "colab": {
          "base_uri": "https://localhost:8080/"
        },
        "outputId": "225eb982-063e-4a11-c422-b1931e8e7137"
      },
      "execution_count": null,
      "outputs": [
        {
          "output_type": "stream",
          "name": "stdout",
          "text": [
            "Original tensor:\n",
            "tensor([[[[0.5349, 0.1988, 0.6592, 0.6569, 0.2328, 0.4251, 0.2071, 0.6297,\n",
            "           0.3653, 0.8513]]]])\n",
            "Original tensor shape: torch.Size([1, 1, 1, 10])\n",
            "\n",
            "New tensor:\n",
            "tensor([0.5349, 0.1988, 0.6592, 0.6569, 0.2328, 0.4251, 0.2071, 0.6297, 0.3653,\n",
            "        0.8513])\n",
            "New tensor shape: torch.Size([10])\n"
          ]
        }
      ]
    }
  ]
}